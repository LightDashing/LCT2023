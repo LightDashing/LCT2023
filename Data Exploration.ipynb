{
 "cells": [
  {
   "cell_type": "code",
   "execution_count": null,
   "id": "7b562b1f",
   "metadata": {},
   "outputs": [],
   "source": [
    "import pandas as pd\n",
    "import pyarrow as pa\n",
    "import numpy as np\n",
    "import gc\n",
    "import pyarrow.parquet as pq\n",
    "import missingno as msn\n",
    "\n",
    "import plotly.express as px\n",
    "import plotly.graph_objects as go\n",
    "import seaborn as sns\n",
    "import matplotlib.pyplot as plt\n",
    "import math\n",
    "\n",
    "from tsfresh import extract_features\n",
    "from tsfresh import select_features\n",
    "from tsfresh.utilities.dataframe_functions import impute\n",
    "\n",
    "from plotly.subplots import make_subplots"
   ]
  },
  {
   "cell_type": "code",
   "execution_count": null,
   "id": "613588bc",
   "metadata": {},
   "outputs": [],
   "source": [
    "X_train = pq.ParquetFile(\"X_train.parquet\")"
   ]
  },
  {
   "cell_type": "code",
   "execution_count": null,
   "id": "20078b0e",
   "metadata": {},
   "outputs": [],
   "source": [
    "y_train = pq.ParquetFile(\"y_train.parquet\")"
   ]
  },
  {
   "cell_type": "code",
   "execution_count": null,
   "id": "21f313e6",
   "metadata": {},
   "outputs": [],
   "source": [
    "y_train = y_train.read_row_group(0)"
   ]
  },
  {
   "cell_type": "code",
   "execution_count": null,
   "id": "86bf9f2b",
   "metadata": {},
   "outputs": [],
   "source": [
    "end_frame = []\n",
    "for column in y_train.column_names:\n",
    "    if column != 'DT':\n",
    "        end_frame.append(y_train[column].to_pandas().astype(\"category\"))\n",
    "    else:\n",
    "        end_frame.append(y_train[column].to_pandas())\n",
    "del y_train\n",
    "y_train = pd.concat(end_frame, axis=1)\n",
    "del end_frame\n",
    "gc.collect()"
   ]
  },
  {
   "cell_type": "code",
   "execution_count": null,
   "id": "e1a4423b",
   "metadata": {},
   "outputs": [],
   "source": [
    "y_train.info()"
   ]
  },
  {
   "cell_type": "code",
   "execution_count": null,
   "id": "20308da2",
   "metadata": {
    "scrolled": false
   },
   "outputs": [],
   "source": [
    "table = X_train.read_row_group(0)"
   ]
  },
  {
   "cell_type": "code",
   "execution_count": null,
   "id": "7f71abd4",
   "metadata": {
    "scrolled": true
   },
   "outputs": [],
   "source": [
    "end_frame = []\n",
    "for column in table.column_names:\n",
    "    if column != 'DT':\n",
    "        end_frame.append(table[column].to_pandas().astype(\"float32\"))\n",
    "    else:\n",
    "        end_frame.append(table[column].to_pandas())\n",
    "del table\n",
    "df = pd.concat(end_frame, axis=1)\n",
    "del end_frame\n",
    "gc.collect()"
   ]
  },
  {
   "cell_type": "code",
   "execution_count": null,
   "id": "4c35fec2",
   "metadata": {
    "scrolled": true
   },
   "outputs": [],
   "source": [
    "df.head()"
   ]
  },
  {
   "cell_type": "code",
   "execution_count": null,
   "id": "87d7b24f",
   "metadata": {},
   "outputs": [],
   "source": [
    "fig = msn.bar(df)"
   ]
  },
  {
   "cell_type": "code",
   "execution_count": null,
   "id": "ba176274",
   "metadata": {},
   "outputs": [],
   "source": [
    "ex4_columns = [column for column in df.columns if column.find(\"ЭКСГАУСТЕР 4\") != -1]\n",
    "ex4_columns"
   ]
  },
  {
   "cell_type": "code",
   "execution_count": null,
   "id": "d66a3e32",
   "metadata": {},
   "outputs": [],
   "source": [
    "[column for column in y_train.columns]"
   ]
  },
  {
   "cell_type": "code",
   "execution_count": null,
   "id": "aceefb69",
   "metadata": {},
   "outputs": [],
   "source": [
    "ex4y_columns = [column for column in y_train.columns if column.find(\"Y_ЭКСГАУСТЕР А/М №4\") != -1]\n",
    "ex4y_columns"
   ]
  },
  {
   "cell_type": "code",
   "execution_count": null,
   "id": "24c7f14b",
   "metadata": {},
   "outputs": [],
   "source": [
    "machinery = {}\n",
    "for column in y_train.columns.values:\n",
    "    machinery[column[:19]] = machinery.get(column[:19], 0) + 1\n",
    "machinery"
   ]
  },
  {
   "cell_type": "code",
   "execution_count": null,
   "id": "d89fbcf4",
   "metadata": {},
   "outputs": [],
   "source": [
    "machinery = {}\n",
    "for column in df.columns.values:\n",
    "    machinery[column[:12]] = machinery.get(column[:12], 0) + 1\n",
    "machinery"
   ]
  },
  {
   "cell_type": "code",
   "execution_count": null,
   "id": "da1a1a01",
   "metadata": {},
   "outputs": [],
   "source": [
    "ex4_columns.insert(0, 'DT')\n",
    "ex4y_columns.insert(0, 'DT')"
   ]
  },
  {
   "cell_type": "code",
   "execution_count": null,
   "id": "ce0d2d98",
   "metadata": {},
   "outputs": [],
   "source": [
    "msn.bar(df[ex4_columns])"
   ]
  },
  {
   "cell_type": "code",
   "execution_count": null,
   "id": "dcb87a30",
   "metadata": {},
   "outputs": [],
   "source": [
    "df[ex4_columns]"
   ]
  },
  {
   "cell_type": "code",
   "execution_count": null,
   "id": "5ed331c1",
   "metadata": {},
   "outputs": [],
   "source": [
    "num_columns = len(y_train[ex4y_columns].columns)\n",
    "num_rows = math.ceil(math.sqrt(num_columns))\n",
    "num_cols = math.ceil(num_columns / num_rows)\n",
    "\n",
    "# Create subplots with calculated rows and columns\n",
    "fig = make_subplots(rows=num_rows, cols=num_cols)\n",
    "fig.update_layout(title_font=dict(size=5))\n",
    "\n",
    "# Iterate over each column and add bar plots to the respective subplot\n",
    "for i, column in enumerate(y_train[ex4y_columns].columns):\n",
    "    # Count the occurrences of each class label in the current column\n",
    "    class_counts = y_train[column].value_counts()\n",
    "\n",
    "    # Sort the class labels and their counts in descending order\n",
    "    sorted_classes = class_counts.index.tolist()\n",
    "    sorted_counts = class_counts.values.tolist()\n",
    "\n",
    "    # Calculate the subplot position\n",
    "    row_pos = (i // num_cols) + 1\n",
    "    col_pos = (i % num_cols) + 1\n",
    "\n",
    "    # Add bar plot to the current subplot\n",
    "    fig.add_trace(go.Bar(x=sorted_classes, y=sorted_counts), row=row_pos, col=col_pos)\n",
    "    \n",
    "    fig.update_xaxes(title_text=column, row=row_pos, col=col_pos, title_font=dict(size=10))\n",
    "\n",
    "# Update layout and display the figure\n",
    "fig.update_layout(height=400 * num_rows, width=400 * num_cols, showlegend=False)\n",
    "fig.show()\n"
   ]
  },
  {
   "cell_type": "code",
   "execution_count": null,
   "id": "c05f39c9",
   "metadata": {},
   "outputs": [],
   "source": [
    "temp = df[ex4_columns]\n",
    "temp.index = temp['DT']\n",
    "temp = temp.groupby(pd.Grouper(freq='1h', dropna=False)).mean()"
   ]
  },
  {
   "cell_type": "code",
   "execution_count": null,
   "id": "fb406def",
   "metadata": {},
   "outputs": [],
   "source": [
    "num_features = len(temp.columns)\n",
    "num_rows = int(num_features / 4) + (num_features % 4 > 0)\n",
    "num_cols = 4\n",
    "\n",
    "# Create subplots with calculated rows and columns\n",
    "fig = make_subplots(rows=num_rows, cols=num_cols)\n",
    "\n",
    "# Iterate over each feature and add box plots to the respective subplot\n",
    "for i, feature in enumerate(temp.columns):\n",
    "    # Calculate the subplot position\n",
    "    row_pos = int(i / num_cols) + 1\n",
    "    col_pos = (i % num_cols) + 1\n",
    "\n",
    "    # Add box plot to the current subplot\n",
    "    fig.add_trace(go.Box(y=temp[feature], name=feature), row=row_pos, col=col_pos)\n",
    "\n",
    "# Update layout and display the figure\n",
    "fig.update_layout(height=400 * num_rows, width=600 * num_cols, showlegend=False)\n",
    "fig.show()"
   ]
  },
  {
   "cell_type": "code",
   "execution_count": null,
   "id": "3d365974",
   "metadata": {},
   "outputs": [],
   "source": [
    "num_features = len(temp.columns)\n",
    "num_rows = int(num_features / 4) + (num_features % 4 > 0)\n",
    "num_cols = 4\n",
    "\n",
    "# Create subplots with calculated rows and columns\n",
    "fig = make_subplots(rows=num_rows, cols=num_cols, subplot_titles=temp.columns)\n",
    "\n",
    "# Iterate over each feature and add histogram and violin plot to the respective subplot\n",
    "for i, feature in enumerate(temp.columns):\n",
    "    # Calculate the subplot position\n",
    "    row_pos = int(i / num_cols) + 1\n",
    "    col_pos = (i % num_cols) + 1\n",
    "\n",
    "    # Add histogram to the current subplot\n",
    "    fig.add_trace(go.Histogram(x=temp[feature], name=feature, histnorm='probability density'), row=row_pos, col=col_pos)\n",
    "    # Add violin plot to the current subplot\n",
    "    #fig.add_trace(go.Violin(y=temp[feature], name=feature, box_visible=True, meanline_visible=True), row=row_pos, col=col_pos)\n",
    "\n",
    "# Update layout and display the figure\n",
    "fig.update_layout(height=400 * num_rows, width=600 * num_cols, showlegend=False)\n",
    "fig.show()\n"
   ]
  },
  {
   "cell_type": "code",
   "execution_count": null,
   "id": "a9a881ca",
   "metadata": {},
   "outputs": [],
   "source": [
    "y_temp = y_train[ex4y_columns]\n",
    "y_temp.index = y_temp['DT']\n",
    "y_temp = y_temp.groupby(pd.Grouper(freq='1h', dropna=False)).last()\n",
    "y_temp = y_temp.drop(['DT'], axis=1)"
   ]
  },
  {
   "cell_type": "code",
   "execution_count": null,
   "id": "4264e8a1",
   "metadata": {},
   "outputs": [],
   "source": [
    "temp2 = temp[temp.index < pd.to_datetime(\"2019-06-16 13:20:00\")]\n",
    "y_temp2 = y_temp[y_temp.index < pd.to_datetime(\"2019-06-16 13:20:00\")]"
   ]
  },
  {
   "cell_type": "code",
   "execution_count": null,
   "id": "ab651c1f",
   "metadata": {},
   "outputs": [],
   "source": [
    "fig = make_subplots(rows=16, cols=1, subplot_titles=df.columns)\n",
    "\n",
    "for i, column in enumerate(temp2.columns):\n",
    "    fig.add_trace(go.Scatter(x=temp2.index, y=temp2[column], name=column), row=i+1, col=1)\n",
    "\n",
    "# Update layout\n",
    "fig.update_layout(height=4000, width=1200, title_text=\"Plot\")\n",
    "fig.update_xaxes(title_text=\"Time\", row=15, col=1)\n",
    "fig.update_yaxes(title_text=\"Value\", row=8, col=1)"
   ]
  },
  {
   "cell_type": "code",
   "execution_count": null,
   "id": "e39adf5f",
   "metadata": {},
   "outputs": [],
   "source": [
    "fig = make_subplots(rows=23, cols=1, subplot_titles=y_temp2.columns)\n",
    "\n",
    "for i, column in enumerate(y_temp2.columns):\n",
    "    fig.add_trace(go.Scatter(x=y_temp2.index, y=y_temp2[column], name=column), row=i+1, col=1)\n",
    "\n",
    "# Update layout\n",
    "fig.update_layout(height=4000, width=1200, title_text=\"Plot\")\n",
    "fig.update_xaxes(title_text=\"Time\", row=15, col=1)\n",
    "fig.update_yaxes(title_text=\"Value\", row=8, col=1)"
   ]
  },
  {
   "cell_type": "code",
   "execution_count": null,
   "id": "f013b844",
   "metadata": {},
   "outputs": [],
   "source": [
    "df.head()"
   ]
  },
  {
   "cell_type": "code",
   "execution_count": null,
   "id": "dadc0a90",
   "metadata": {},
   "outputs": [],
   "source": [
    "xt_train = df[ex4_columns]\n",
    "xt_train['id_c'] = 0\n",
    "xt_train.index = xt_train['DT']\n",
    "xt_train = xt_train.groupby(pd.Grouper(freq='1h')).median()"
   ]
  },
  {
   "cell_type": "code",
   "execution_count": null,
   "id": "4595c4ae",
   "metadata": {},
   "outputs": [],
   "source": [
    "xt_train = xt_train.reset_index().dropna()"
   ]
  },
  {
   "cell_type": "code",
   "execution_count": null,
   "id": "df579856",
   "metadata": {},
   "outputs": [],
   "source": [
    "temp = xt_train[xt_train['DT'] < pd.to_datetime('2020-01-16')]"
   ]
  },
  {
   "cell_type": "code",
   "execution_count": null,
   "id": "3c8a9491",
   "metadata": {},
   "outputs": [],
   "source": [
    "extracted_features = extract_features(temp, column_sort='DT', column_id='id_c')"
   ]
  },
  {
   "cell_type": "code",
   "execution_count": null,
   "id": "2efbdc67",
   "metadata": {},
   "outputs": [],
   "source": [
    "excel_table = pd.read_excel(\"messages.xlsx\")\n",
    "excel_table.head()"
   ]
  },
  {
   "cell_type": "code",
   "execution_count": null,
   "id": "7b3bd35a",
   "metadata": {},
   "outputs": [],
   "source": [
    "excel_table.drop({})"
   ]
  },
  {
   "cell_type": "code",
   "execution_count": null,
   "id": "9d9a572c",
   "metadata": {},
   "outputs": [],
   "source": [
    "excel_table.drop([\"ТЕКСТ_ГРУППЫ_КОДОВ\"], axis=1, inplace=True)"
   ]
  },
  {
   "cell_type": "code",
   "execution_count": null,
   "id": "10812a1b",
   "metadata": {},
   "outputs": [],
   "source": [
    "excel_table[excel_table['ИМЯ_МАШИНЫ'] == 'ЭКСГАУСТЕР А/М №4']"
   ]
  },
  {
   "cell_type": "code",
   "execution_count": null,
   "id": "7a9a907c",
   "metadata": {},
   "outputs": [],
   "source": [
    "vibrations = ['DT', 'ЭКСГАУСТЕР 4. ВИБРАЦИЯ НА ОПОРЕ 1',\n",
    "       'ЭКСГАУСТЕР 4. ВИБРАЦИЯ НА ОПОРЕ 2',\n",
    "       'ЭКСГАУСТЕР 4. ВИБРАЦИЯ НА ОПОРЕ 3',\n",
    "       'ЭКСГАУСТЕР 4. ВИБРАЦИЯ НА ОПОРЕ 3. ПРОДОЛЬНАЯ.',\n",
    "       'ЭКСГАУСТЕР 4. ВИБРАЦИЯ НА ОПОРЕ 4',\n",
    "       'ЭКСГАУСТЕР 4. ВИБРАЦИЯ НА ОПОРЕ 4. ПРОДОЛЬНАЯ.']\n",
    "df[vibrations]"
   ]
  },
  {
   "cell_type": "code",
   "execution_count": null,
   "id": "19ede8c7",
   "metadata": {},
   "outputs": [],
   "source": [
    "df_detector_long = df[vibrations].melt(id_vars='DT', var_name='Reading_Source', value_name='Readings')\n",
    "\n",
    "fig, ax = plt.subplots()\n",
    "\n",
    "# Plotting the readings\n",
    "sns.lineplot(data=df_detector_long, x='DT', y='Readings', hue='Reading_Source', ax=ax, palette='tab20')\n",
    "\n",
    "# Loop over target dataframe to plot error intervals\n",
    "for _, row in excel_table.iterrows():\n",
    "    if row['ВИД_СООБЩЕНИЯ'] == 'M1':\n",
    "        color = 'red'  # color for critical failures\n",
    "    else:\n",
    "        color = 'orange'  # color for non-critical failures\n",
    "    ax.axvspan(row['ДАТА_НАЧАЛА_НЕИСПРАВНОСТИ'], row['ДАТА_УСТРАНЕНИЯ_НЕИСПРАВНОСТИ'], facecolor=color, alpha=0.5)\n",
    "\n",
    "plt.show()\n"
   ]
  }
 ],
 "metadata": {
  "kernelspec": {
   "display_name": "Python 3 (ipykernel)",
   "language": "python",
   "name": "python3"
  },
  "language_info": {
   "codemirror_mode": {
    "name": "ipython",
    "version": 3
   },
   "file_extension": ".py",
   "mimetype": "text/x-python",
   "name": "python",
   "nbconvert_exporter": "python",
   "pygments_lexer": "ipython3",
   "version": "3.10.4"
  }
 },
 "nbformat": 4,
 "nbformat_minor": 5
}
